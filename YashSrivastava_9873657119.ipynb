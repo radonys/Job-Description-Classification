{
  "nbformat": 4,
  "nbformat_minor": 0,
  "metadata": {
    "colab": {
      "name": "YashSrivastava_9873657119.ipynb",
      "version": "0.3.2",
      "provenance": [],
      "collapsed_sections": [
        "MWaK_V3ilqcU",
        "p1e9YuQ-lqcb"
      ],
      "toc_visible": true,
      "include_colab_link": true
    },
    "language_info": {
      "codemirror_mode": {
        "name": "ipython",
        "version": 3
      },
      "file_extension": ".py",
      "mimetype": "text/x-python",
      "name": "python",
      "nbconvert_exporter": "python",
      "pygments_lexer": "ipython3",
      "version": "3.6.5"
    },
    "kernelspec": {
      "name": "python3",
      "display_name": "Python 3"
    },
    "accelerator": "GPU"
  },
  "cells": [
    {
      "cell_type": "markdown",
      "metadata": {
        "id": "view-in-github",
        "colab_type": "text"
      },
      "source": [
        "<a href=\"https://colab.research.google.com/github/radonys/Job-Description-Classification/blob/master/YashSrivastava_9873657119.ipynb\" target=\"_parent\"><img src=\"https://colab.research.google.com/assets/colab-badge.svg\" alt=\"Open In Colab\"/></a>"
      ]
    },
    {
      "cell_type": "markdown",
      "metadata": {
        "id": "2rpF900FlqcT",
        "colab_type": "text"
      },
      "source": [
        "### Introduction\n",
        "\n",
        "\n",
        "**Probelm Statement:** Make a classifier which takes in a job description and gives the department name for it.\n",
        "*   Use a neural network model\n",
        "*   Make use of a pre-trained Word Embeddings (example: Word2Vec, GloVe, etc.)\n",
        "*   Calculate the accuracy on a test set (data not used to train the model)\n",
        "\n",
        "**Problem Solving Approach:** \n",
        "_Provide a brief description of steps you followed for solving this problem_\n",
        "1. \n",
        "2. \n",
        "3. "
      ]
    },
    {
      "cell_type": "markdown",
      "metadata": {
        "id": "MWaK_V3ilqcU",
        "colab_type": "text"
      },
      "source": [
        "### Part I: Text Preprocessing\n",
        "\n",
        "_Include all text preprocesing steps like processing of json,csv files & data cleaning in this part._"
      ]
    },
    {
      "cell_type": "markdown",
      "metadata": {
        "id": "1mKQj3aHlqcV",
        "colab_type": "text"
      },
      "source": [
        "Import neccessary packages in below cell"
      ]
    },
    {
      "cell_type": "code",
      "metadata": {
        "id": "pVAwRJe9lqcV",
        "colab_type": "code",
        "colab": {}
      },
      "source": [
        "import os, json\n",
        "import pandas as pd"
      ],
      "execution_count": 0,
      "outputs": []
    },
    {
      "cell_type": "markdown",
      "metadata": {
        "id": "PwwjYhtDl9HE",
        "colab_type": "text"
      },
      "source": [
        "Get the Data Files"
      ]
    },
    {
      "cell_type": "code",
      "metadata": {
        "id": "gCX8UnR0lqcY",
        "colab_type": "code",
        "colab": {}
      },
      "source": [
        "!git clone https://bitbucket.org/mohitatbb/machine-learning-assessment.git\n",
        "!mv /content/machine-learning-assessment/data /content/\n",
        "!rm -rf /content/machine-learning-assessment"
      ],
      "execution_count": 0,
      "outputs": []
    },
    {
      "cell_type": "markdown",
      "metadata": {
        "id": "dl45E1uaoYlK",
        "colab_type": "text"
      },
      "source": [
        "Load JSON files in Pandas DataFrame and printing top values."
      ]
    },
    {
      "cell_type": "code",
      "metadata": {
        "id": "e9TE6u9NoghU",
        "colab_type": "code",
        "colab": {}
      },
      "source": [
        "path_to_json = '/content/data/docs'\n",
        "json_files = [pos_json for pos_json in os.listdir(path_to_json) if pos_json.endswith('.json')]\n",
        "\n",
        "description_data = pd.DataFrame(columns=['Document ID', 'description'])\n",
        "\n",
        "for index, js in enumerate(json_files):  \n",
        "  with open(os.path.join(path_to_json, js)) as json_file:\n",
        "    \n",
        "    json_text = json.load(json_file)\n",
        "    doc_id = int(json_text['_id'])\n",
        "    description = json_text['jd_information']['description']\n",
        "    description_data.loc[index] = [doc_id, description]\n",
        "\n",
        "print(description_data.head())"
      ],
      "execution_count": 0,
      "outputs": []
    },
    {
      "cell_type": "markdown",
      "metadata": {
        "id": "5ICswdatrd4K",
        "colab_type": "text"
      },
      "source": [
        "Read Department CSV file and view top values."
      ]
    },
    {
      "cell_type": "code",
      "metadata": {
        "id": "NLzz3tsesPwQ",
        "colab_type": "code",
        "colab": {}
      },
      "source": [
        "department_csv = '/content/data/document_departments.csv'\n",
        "department_data = pd.read_csv(department_csv)\n",
        "print(department_data.head())"
      ],
      "execution_count": 0,
      "outputs": []
    },
    {
      "cell_type": "markdown",
      "metadata": {
        "id": "zla3grv1v8oY",
        "colab_type": "text"
      },
      "source": [
        "Combine both Data Frames and visualize."
      ]
    },
    {
      "cell_type": "code",
      "metadata": {
        "id": "NgBeT8_TwEBb",
        "colab_type": "code",
        "colab": {}
      },
      "source": [
        "data_combine = pd.merge(description_data, department_data, on='Document ID', how='inner')\n",
        "print(data_combine.head())"
      ],
      "execution_count": 0,
      "outputs": []
    },
    {
      "cell_type": "markdown",
      "metadata": {
        "id": "p1e9YuQ-lqcb",
        "colab_type": "text"
      },
      "source": [
        "### Part II: Exploratoty Data Analysis\n",
        "\n",
        "_Include EDA steps like finding distribution of Departments in this part, you may also use plots for EDA._"
      ]
    },
    {
      "cell_type": "markdown",
      "metadata": {
        "id": "iPgcQffTx50U",
        "colab_type": "text"
      },
      "source": [
        "Import necessary analysis modules."
      ]
    },
    {
      "cell_type": "code",
      "metadata": {
        "id": "5vVTnj8Glqcb",
        "colab_type": "code",
        "colab": {}
      },
      "source": [
        "from collections import Counter\n",
        "import seaborn as sns\n",
        "import matplotlib.pyplot as plt\n",
        "%matplotlib inline\n",
        "import numpy as np"
      ],
      "execution_count": 0,
      "outputs": []
    },
    {
      "cell_type": "markdown",
      "metadata": {
        "id": "Qb1DY4e001Jy",
        "colab_type": "text"
      },
      "source": [
        "Plotting Department distribution."
      ]
    },
    {
      "cell_type": "code",
      "metadata": {
        "id": "MYo2jNuqlqcd",
        "colab_type": "code",
        "colab": {}
      },
      "source": [
        "unique_departments = list(set(data_combine['Department']))\n",
        "count = dict(Counter(data_combine['Department']))\n",
        "print(unique_departments)\n",
        "\n",
        "plt.bar(range(len(count)), list(count.values()), align='center')\n",
        "plt.xticks(range(len(count)), list(count.keys()))\n",
        "plt.show()"
      ],
      "execution_count": 0,
      "outputs": []
    },
    {
      "cell_type": "markdown",
      "metadata": {
        "id": "GWDHwp953Ksq",
        "colab_type": "text"
      },
      "source": [
        "Statistical Information of the Given Data."
      ]
    },
    {
      "cell_type": "code",
      "metadata": {
        "id": "_gBrP-si26y4",
        "colab_type": "code",
        "colab": {}
      },
      "source": [
        "data_combine.describe()"
      ],
      "execution_count": 0,
      "outputs": []
    },
    {
      "cell_type": "markdown",
      "metadata": {
        "id": "02vl9Fk5XJM-",
        "colab_type": "text"
      },
      "source": [
        "Number of empty description string rows in data."
      ]
    },
    {
      "cell_type": "code",
      "metadata": {
        "id": "B0csXZk33k5p",
        "colab_type": "code",
        "colab": {}
      },
      "source": [
        "remove_list = []\n",
        "\n",
        "total = data_combine.shape[0]\n",
        "\n",
        "for i in range(0,len(data_combine['description'])):\n",
        "  \n",
        "  if data_combine['description'][i] == '':\n",
        "    remove_list.append(i)\n",
        "\n",
        "data_combine_description = data_combine.drop(remove_list, axis=0)\n",
        "\n",
        "remaining = data_combine_description.shape[0]\n",
        "\n",
        "empty_descriptions = total - remaining\n",
        "print(\"Number of Empty descriptions: \", empty_descriptions)"
      ],
      "execution_count": 0,
      "outputs": []
    },
    {
      "cell_type": "markdown",
      "metadata": {
        "id": "QD42EdnElqcg",
        "colab_type": "text"
      },
      "source": [
        "### Part III: Modelling & Evaluation\n",
        "\n",
        "_Include all model prepration & evaluation steps in this part._"
      ]
    },
    {
      "cell_type": "code",
      "metadata": {
        "id": "foVQxbP1sSDp",
        "colab_type": "code",
        "colab": {}
      },
      "source": [
        "from sklearn.model_selection import train_test_split\n",
        "import os\n",
        "\n",
        "#tpu_address = 'grpc://' + os.environ['COLAB_TPU_ADDR']"
      ],
      "execution_count": 0,
      "outputs": []
    },
    {
      "cell_type": "markdown",
      "metadata": {
        "id": "eZtrdzoZ5Rbg",
        "colab_type": "text"
      },
      "source": [
        "Paths to BERT files obtained from Google Research BERT open-source."
      ]
    },
    {
      "cell_type": "code",
      "metadata": {
        "id": "zxn08UEE3Yuv",
        "colab_type": "code",
        "colab": {}
      },
      "source": [
        "!rm -rf bert\n",
        "!rm -rf uncased_L-12_H-768_A-12\n",
        "\n",
        "!wget https://storage.googleapis.com/bert_models/2018_10_18/uncased_L-12_H-768_A-12.zip\n",
        "!unzip uncased_L-12_H-768_A-12.zip\n",
        "!rm uncased_L-12_H-768_A-12.zip\n",
        "\n",
        "BERT_VOCAB= 'uncased_L-12_H-768_A-12/vocab.txt'\n",
        "BERT_INIT_CHKPNT = 'uncased_L-12_H-768_A-12/bert_model.ckpt'\n",
        "BERT_CONFIG = 'uncased_L-12_H-768_A-12/bert_config.json'"
      ],
      "execution_count": 0,
      "outputs": []
    },
    {
      "cell_type": "markdown",
      "metadata": {
        "id": "S5aNQ0US70yV",
        "colab_type": "text"
      },
      "source": [
        "Prepare Training Data for BERT Model."
      ]
    },
    {
      "cell_type": "code",
      "metadata": {
        "id": "2cyZWZI39se8",
        "colab_type": "code",
        "colab": {}
      },
      "source": [
        "data_combine_description['bert_required_character'] = 'a'\n",
        "data_combine_description = data_combine_description[['Document ID', 'Department', 'bert_required_character', 'description']]\n",
        "data_combine_description.head()"
      ],
      "execution_count": 0,
      "outputs": []
    },
    {
      "cell_type": "markdown",
      "metadata": {
        "id": "YkczhnKX6QrB",
        "colab_type": "text"
      },
      "source": [
        "Train-Test Split Data"
      ]
    },
    {
      "cell_type": "code",
      "metadata": {
        "id": "S2nSU1LXlqck",
        "colab_type": "code",
        "colab": {}
      },
      "source": [
        "train, test = train_test_split(data_combine_description, test_size=0.2)"
      ],
      "execution_count": 0,
      "outputs": []
    },
    {
      "cell_type": "markdown",
      "metadata": {
        "id": "kDD6Y3ovngGT",
        "colab_type": "text"
      },
      "source": [
        "Save TSV files."
      ]
    },
    {
      "cell_type": "code",
      "metadata": {
        "id": "qiOst_PYnhvr",
        "colab_type": "code",
        "colab": {}
      },
      "source": [
        "!mkdir modified_data\n",
        "\n",
        "train.to_csv('modified_data/train.tsv', sep='\\t', index=False, header=False)\n",
        "test.to_csv('modified_data/dev.tsv', sep='\\t', index=False, header=False)"
      ],
      "execution_count": 0,
      "outputs": []
    },
    {
      "cell_type": "code",
      "metadata": {
        "id": "qo15CnNNGpLE",
        "colab_type": "code",
        "colab": {}
      },
      "source": [
        "!pip install bert-tensorflow"
      ],
      "execution_count": 0,
      "outputs": []
    },
    {
      "cell_type": "code",
      "metadata": {
        "id": "NVgzjS3YoqHa",
        "colab_type": "code",
        "colab": {}
      },
      "source": [
        "!python run_classifier.py \\\n",
        "--task_name=cola \\\n",
        "--do_train=true \\\n",
        "--do_eval=true \\\n",
        "--data_dir=modified_data \\\n",
        "--vocab_file=uncased_L-12_H-768_A-12/vocab.txt \\\n",
        "--bert_config_file=uncased_L-12_H-768_A-12/bert_config.json \\\n",
        "--init_checkpoint=uncased_L-12_H-768_A-12/bert_model.ckpt \\\n",
        "--max_seq_length=64 \\\n",
        "--train_batch_size=32 \\\n",
        "--learning_rate=2e-5 \\\n",
        "--num_train_epochs=3.0 \\\n",
        "--output_dir=bert_output/"
      ],
      "execution_count": 0,
      "outputs": []
    },
    {
      "cell_type": "markdown",
      "metadata": {
        "id": "6WcbhXHZlqcn",
        "colab_type": "text"
      },
      "source": [
        "**Results Summary:**\n",
        "_Provide a brief summary of results obtained like model accuracy & other insights based on EDA & your interpretations_\n",
        "\n",
        "1. \n",
        "2. \n",
        "3. "
      ]
    }
  ]
}